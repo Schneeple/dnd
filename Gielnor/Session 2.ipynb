{
 "cells": [
  {
   "cell_type": "code",
   "execution_count": 58,
   "metadata": {},
   "outputs": [],
   "source": [
    "from character import me as me\n",
    "import session1 as s1\n",
    "me = s1.lou"
   ]
  },
  {
   "cell_type": "markdown",
   "metadata": {},
   "source": [
    "# Last thing that happened!"
   ]
  },
  {
   "cell_type": "code",
   "execution_count": 59,
   "metadata": {},
   "outputs": [
    {
     "data": {
      "text/plain": [
       "'Try to knock and hide. No one answers.'"
      ]
     },
     "execution_count": 59,
     "metadata": {},
     "output_type": "execute_result"
    }
   ],
   "source": [
    "s1.x24"
   ]
  },
  {
   "cell_type": "code",
   "execution_count": 60,
   "metadata": {},
   "outputs": [
    {
     "name": "stdout",
     "output_type": "stream",
     "text": [
      "name ------> Lou Tenant\n",
      "age ------> 42.0\n",
      "hairColor ------> blue\n",
      "scars ------> None\n",
      "tattoos ------> {'Left Leg Sleeve full of Gielinor Items': ['whole black demon', 'brutal blue dragon', 'hell hound', 'mud runes']}\n",
      "handicaps ------> color-blind\n",
      "clothes ------> ['kraken shirts', 'fishing']\n",
      "retirement ------> hang out at the dcosk at Port Sarim\n",
      "catchPhrase ------> I do it for gnomes\n",
      "outlook ------> Peseemistic\n",
      "personality ------> extroverted\n",
      "badHabits ------> Mort Myre Mushrooms\n",
      "lol ------> ['']\n",
      "seenByOthers ------> ['Strong', 'Rich', 'Humble', 'Relatable']\n",
      "seeHimself ------> ['Weak', 'Just moved out from his parents house']\n",
      "bestTraits ------> ['Sneaky']\n",
      "worstTraits ------> ['Not the best at the Gnome Stronghold Agility Course']\n",
      "competive ------> 0.7\n",
      "judge ------> Time to consider others actions\n",
      "fears ------> ['Wilderness']\n",
      "philosophy ------> Live strong, be happy, dont get testicle cancer -Lance Armstrong\n",
      "cried ------> Went to sneak to Troll Stronghold to get some goutweed and the troll hit him with a rock.\n",
      "lust ------> Psychonaut\n",
      "topSense ------> Vision\n",
      "valuesInAFriend ------> ['Helpful', 'Being There']\n",
      "familySize ------> 4\n",
      "mom ------> Amanda Mount (Tenant)\n",
      "dad ------> Howie Tenant\n",
      "sister ------> Sharon Tenant\n",
      "friends ------> ['Harry Dong', 'Dill Doe Jr.']\n",
      "raisedNeglected ------> True\n",
      "adviceForYoungerSelf ------> Do more agility\n",
      "bestChildMemory ------> \n",
      "worstChildMemory ------> Battle of Khazard\n",
      "respondToThreat ------> Fight with words unless needed to fight with violence\n",
      "cryptonite ------> Taking an arrow to the knee\n",
      "perseptionStrangers ------> Different but Interested\n",
      "choiceOfWeapon ------> Bow\n",
      "inPockets ------> ['Lockpick', 'Lint', 'Swamp Toad']\n",
      "religiousViews ------> Zaros\n",
      "reincarnation ------> Kraken\n",
      "howILikeToDie ------> Drowning\n",
      "viewOfFreedom ------> Being able to raid whatever you want\n",
      "viewOfLying ------> Whatever it takes\n",
      "minimallist ------> True\n",
      "halloweenCostume ------> Back portion of the horse costume\n",
      "saveOfPersonWhoWouldItBe ------> Nieve\n",
      "whyNeverKill ------> None\n",
      "thingsWontDo ------> Kill Fellow Gnomes\n",
      "believeInHappyEndings ------> True\n",
      "attack ------> 17\n",
      "strength ------> 2\n",
      "defence ------> 16\n",
      "range ------> 10\n",
      "prayer ------> 6\n",
      "magic ------> 11\n",
      "runecrafting ------> 16\n",
      "construction ------> 18\n",
      "health ------> 16\n",
      "agility ------> 18\n",
      "herblore ------> 8\n",
      "theiving ------> 28\n",
      "crafting ------> 18\n",
      "fletching ------> 15\n",
      "slayer ------> 18\n",
      "hunting ------> 7\n",
      "mining ------> 20\n",
      "smithing ------> 20\n",
      "fishing ------> 11\n",
      "cooking ------> 28\n",
      "firemaking ------> 30\n",
      "woodcutting ------> 16\n",
      "farming ------> 28\n",
      "all ------> [17  2 16 10  6 11 16 18 16 18  8 28 18 15 18  7 20 20 11 11 28 30 16 28]\n",
      "total ------> 388\n",
      "startingSkills ------> None\n",
      "attack_m ------> 1.7000000000000002\n",
      "strength_m ------> 0.2\n",
      "range_m ------> 1.0\n",
      "magic_m ------> 1.1\n",
      "defence_m ------> 1.6\n",
      "modifiers ------> None\n",
      "money ------> 110\n",
      "inventory ------> [<session1.item object at 0x0000020F064D8C88>, <session1.item object at 0x0000020F064D8DD8>, 'Blue Glowing Mushroom', <session1.item object at 0x0000020F06412F28>, <session1.item object at 0x0000020F06424048>]\n"
     ]
    }
   ],
   "source": [
    "stats = []\n",
    "for i in dir(me):\n",
    "    stats.append( eval('me.'+i) )\n",
    "stats = stats[2]\n",
    "for i in stats:\n",
    "    print(i , '------>' ,stats[i])"
   ]
  },
  {
   "cell_type": "code",
   "execution_count": 76,
   "metadata": {},
   "outputs": [],
   "source": [
    "import numpy as np\n",
    "import pandas as pd\n",
    "x = np.array( stats['all'])\n",
    "x.shape = (8,3)"
   ]
  },
  {
   "cell_type": "raw",
   "metadata": {},
   "source": [
    "pd.DataFrame(x)"
   ]
  },
  {
   "cell_type": "markdown",
   "metadata": {},
   "source": [
    "#squelchy cam eup out of the dungeon"
   ]
  },
  {
   "cell_type": "code",
   "execution_count": 106,
   "metadata": {},
   "outputs": [
    {
     "data": {
      "text/plain": [
       "9.8"
      ]
     },
     "execution_count": 106,
     "metadata": {},
     "output_type": "execute_result"
    }
   ],
   "source": [
    "me.roll(20) + (me.theiving/10)"
   ]
  },
  {
   "cell_type": "markdown",
   "metadata": {},
   "source": [
    "me.roll(20) + (me.theiving/10)"
   ]
  },
  {
   "cell_type": "markdown",
   "metadata": {},
   "source": [
    "Took off all my clothes and tried lock picking in"
   ]
  },
  {
   "cell_type": "code",
   "execution_count": 108,
   "metadata": {},
   "outputs": [
    {
     "data": {
      "text/plain": [
       "11.8"
      ]
     },
     "execution_count": 108,
     "metadata": {},
     "output_type": "execute_result"
    }
   ],
   "source": [
    "me.roll(20) + (me.theiving/10)"
   ]
  },
  {
   "cell_type": "markdown",
   "metadata": {},
   "source": [
    "# Put sword in in middle and push the timber locking the door"
   ]
  },
  {
   "cell_type": "code",
   "execution_count": 109,
   "metadata": {},
   "outputs": [
    {
     "data": {
      "text/plain": [
       "16.2"
      ]
     },
     "execution_count": 109,
     "metadata": {},
     "output_type": "execute_result"
    }
   ],
   "source": [
    "me.roll(20) + (me.strength/10)"
   ]
  },
  {
   "cell_type": "markdown",
   "metadata": {},
   "source": [
    "Look arround to see some robes, a ladder to decond story."
   ]
  },
  {
   "cell_type": "code",
   "execution_count": 110,
   "metadata": {},
   "outputs": [
    {
     "data": {
      "text/plain": [
       "16"
      ]
     },
     "execution_count": 110,
     "metadata": {},
     "output_type": "execute_result"
    }
   ],
   "source": [
    "me.roll(20)"
   ]
  },
  {
   "cell_type": "markdown",
   "metadata": {},
   "source": [
    "go up the ladder, I say \" There is a half orc down stairs!\". Shot a fireball at me"
   ]
  },
  {
   "cell_type": "code",
   "execution_count": 128,
   "metadata": {},
   "outputs": [],
   "source": [
    "me.health -= 5"
   ]
  },
  {
   "cell_type": "markdown",
   "metadata": {},
   "source": [
    "# Attack initiative roll"
   ]
  },
  {
   "cell_type": "code",
   "execution_count": 121,
   "metadata": {},
   "outputs": [
    {
     "data": {
      "text/plain": [
       "3.7"
      ]
     },
     "execution_count": 121,
     "metadata": {},
     "output_type": "execute_result"
    }
   ],
   "source": [
    "me.roll(20) + me.attack_m"
   ]
  },
  {
   "cell_type": "markdown",
   "metadata": {},
   "source": [
    "# Tried tipping over bookshelf, I fail... ha!"
   ]
  },
  {
   "cell_type": "code",
   "execution_count": 116,
   "metadata": {},
   "outputs": [
    {
     "data": {
      "text/plain": [
       "8.2"
      ]
     },
     "execution_count": 116,
     "metadata": {},
     "output_type": "execute_result"
    }
   ],
   "source": [
    "me.roll(20) + me.strength_m"
   ]
  },
  {
   "cell_type": "markdown",
   "metadata": {},
   "source": [
    "# turn prayer on to boost strength modifer by 1"
   ]
  },
  {
   "cell_type": "markdown",
   "metadata": {},
   "source": [
    "Squelchi hits the zamarak monk by 2"
   ]
  },
  {
   "cell_type": "markdown",
   "metadata": {},
   "source": [
    "- squlchi gets hit by 7\n",
    "\n",
    "- squlchi attempts to retrieve his weapon, then tries to push down the bookshelf, rolls a 17\n",
    "\n",
    "- they are trapped\n",
    "\n",
    "- I wake him up and he tells be to go to hell. I hit him hard with a book.\n",
    "\n",
    "- go upstairs to check on munk calling out\n",
    "\n",
    "- tried hitting him in head with pickaxe"
   ]
  },
  {
   "cell_type": "code",
   "execution_count": 123,
   "metadata": {},
   "outputs": [
    {
     "data": {
      "text/plain": [
       "5.7"
      ]
     },
     "execution_count": 123,
     "metadata": {},
     "output_type": "execute_result"
    }
   ],
   "source": [
    "me.roll(20) + me.attack_m"
   ]
  },
  {
   "cell_type": "code",
   "execution_count": 125,
   "metadata": {},
   "outputs": [],
   "source": [
    "me.health -= 6"
   ]
  },
  {
   "cell_type": "code",
   "execution_count": 129,
   "metadata": {},
   "outputs": [
    {
     "data": {
      "text/plain": [
       "5"
      ]
     },
     "execution_count": 129,
     "metadata": {},
     "output_type": "execute_result"
    }
   ],
   "source": [
    "me.health"
   ]
  },
  {
   "cell_type": "code",
   "execution_count": 130,
   "metadata": {},
   "outputs": [],
   "source": [
    "# Oh no!"
   ]
  },
  {
   "cell_type": "code",
   "execution_count": 131,
   "metadata": {},
   "outputs": [
    {
     "data": {
      "text/plain": [
       "9.7"
      ]
     },
     "execution_count": 131,
     "metadata": {},
     "output_type": "execute_result"
    }
   ],
   "source": [
    "me.roll(20) + me.attack_m"
   ]
  },
  {
   "cell_type": "code",
   "execution_count": 132,
   "metadata": {},
   "outputs": [
    {
     "data": {
      "text/plain": [
       "3"
      ]
     },
     "execution_count": 132,
     "metadata": {},
     "output_type": "execute_result"
    }
   ],
   "source": [
    "me.roll(4)"
   ]
  },
  {
   "cell_type": "code",
   "execution_count": 134,
   "metadata": {},
   "outputs": [
    {
     "data": {
      "text/plain": [
       "4.2"
      ]
     },
     "execution_count": 134,
     "metadata": {},
     "output_type": "execute_result"
    }
   ],
   "source": [
    "3 + me.strength_m + 1 # prayer modifier"
   ]
  },
  {
   "cell_type": "markdown",
   "metadata": {},
   "source": [
    "# Zamarok monk hit me with a 8 and took me unconcious"
   ]
  },
  {
   "cell_type": "code",
   "execution_count": 135,
   "metadata": {},
   "outputs": [
    {
     "data": {
      "text/plain": [
       "2"
      ]
     },
     "execution_count": 135,
     "metadata": {},
     "output_type": "execute_result"
    }
   ],
   "source": [
    "me.roll(20) #first Savings throw , needs a 5"
   ]
  },
  {
   "cell_type": "code",
   "execution_count": 136,
   "metadata": {},
   "outputs": [
    {
     "data": {
      "text/plain": [
       "16"
      ]
     },
     "execution_count": 136,
     "metadata": {},
     "output_type": "execute_result"
    }
   ],
   "source": [
    "me.roll(20) #first Savings throw , needs a 5"
   ]
  },
  {
   "cell_type": "code",
   "execution_count": 137,
   "metadata": {},
   "outputs": [
    {
     "data": {
      "text/plain": [
       "20"
      ]
     },
     "execution_count": 137,
     "metadata": {},
     "output_type": "execute_result"
    }
   ],
   "source": [
    "me.roll(20) #first Savings throw , needs a 5"
   ]
  },
  {
   "cell_type": "code",
   "execution_count": 141,
   "metadata": {},
   "outputs": [],
   "source": [
    "me.health = 1"
   ]
  },
  {
   "cell_type": "markdown",
   "metadata": {},
   "source": [
    "# go downstairs and kill the Munk with a pickaxe"
   ]
  },
  {
   "cell_type": "code",
   "execution_count": 138,
   "metadata": {},
   "outputs": [
    {
     "data": {
      "text/plain": [
       "13"
      ]
     },
     "execution_count": 138,
     "metadata": {},
     "output_type": "execute_result"
    }
   ],
   "source": [
    "me.roll(20)"
   ]
  },
  {
   "cell_type": "code",
   "execution_count": 139,
   "metadata": {},
   "outputs": [
    {
     "data": {
      "text/plain": [
       "3"
      ]
     },
     "execution_count": 139,
     "metadata": {},
     "output_type": "execute_result"
    }
   ],
   "source": [
    "me.roll(20)"
   ]
  },
  {
   "cell_type": "code",
   "execution_count": 140,
   "metadata": {},
   "outputs": [
    {
     "data": {
      "text/plain": [
       "2"
      ]
     },
     "execution_count": 140,
     "metadata": {},
     "output_type": "execute_result"
    }
   ],
   "source": [
    "me.roll(4)"
   ]
  },
  {
   "cell_type": "markdown",
   "metadata": {},
   "source": [
    "# kill him"
   ]
  },
  {
   "cell_type": "markdown",
   "metadata": {},
   "source": [
    "- go up stairs and do a perseption check"
   ]
  },
  {
   "cell_type": "code",
   "execution_count": 142,
   "metadata": {},
   "outputs": [
    {
     "data": {
      "text/plain": [
       "10"
      ]
     },
     "execution_count": 142,
     "metadata": {},
     "output_type": "execute_result"
    }
   ],
   "source": [
    "me.roll(20)"
   ]
  },
  {
   "cell_type": "markdown",
   "metadata": {},
   "source": [
    "- Turn to squlchi and ask him to open the coffin\n",
    "\n",
    "- He opens the lid with a 14"
   ]
  },
  {
   "cell_type": "code",
   "execution_count": null,
   "metadata": {},
   "outputs": [],
   "source": [
    "# eat anchovies and herring to heal 6 "
   ]
  },
  {
   "cell_type": "code",
   "execution_count": 143,
   "metadata": {},
   "outputs": [],
   "source": [
    "me.health +=6"
   ]
  },
  {
   "cell_type": "code",
   "execution_count": 157,
   "metadata": {},
   "outputs": [],
   "source": [
    "temp = s1.lou"
   ]
  },
  {
   "cell_type": "code",
   "execution_count": 160,
   "metadata": {},
   "outputs": [],
   "source": [
    "me.inventory = temp.inventory[0:3]"
   ]
  },
  {
   "cell_type": "code",
   "execution_count": 161,
   "metadata": {},
   "outputs": [
    {
     "data": {
      "text/plain": [
       "[<session1.item at 0x20f064d8c88>, <session1.item at 0x20f064d8dd8>]"
      ]
     },
     "execution_count": 161,
     "metadata": {},
     "output_type": "execute_result"
    }
   ],
   "source": [
    "me.inventory"
   ]
  },
  {
   "cell_type": "code",
   "execution_count": 165,
   "metadata": {},
   "outputs": [
    {
     "data": {
      "text/plain": [
       "1.2"
      ]
     },
     "execution_count": 165,
     "metadata": {},
     "output_type": "execute_result"
    }
   ],
   "source": [
    "me.roll(20) + me.strength_m"
   ]
  },
  {
   "cell_type": "markdown",
   "metadata": {},
   "source": [
    "# I couldnt lift the lid with the vampyre so this guy told me to whack him with the pickaxe"
   ]
  },
  {
   "cell_type": "code",
   "execution_count": 167,
   "metadata": {},
   "outputs": [
    {
     "data": {
      "text/plain": [
       "32"
      ]
     },
     "execution_count": 167,
     "metadata": {},
     "output_type": "execute_result"
    }
   ],
   "source": [
    "me.roll(20) + me.theiving"
   ]
  },
  {
   "cell_type": "code",
   "execution_count": 168,
   "metadata": {},
   "outputs": [],
   "source": [
    "# picked up 100 air and 100 mind runes"
   ]
  },
  {
   "cell_type": "code",
   "execution_count": 186,
   "metadata": {},
   "outputs": [],
   "source": [
    "me.inventory.append('100 air runes')\n",
    "me.inventory.append('100 mind runes')"
   ]
  },
  {
   "cell_type": "code",
   "execution_count": 169,
   "metadata": {},
   "outputs": [],
   "source": [
    "# I take a steel scimitar"
   ]
  },
  {
   "cell_type": "code",
   "execution_count": 184,
   "metadata": {},
   "outputs": [],
   "source": [
    "me.inventory.append( 'steel scimmitar' )"
   ]
  },
  {
   "cell_type": "code",
   "execution_count": null,
   "metadata": {},
   "outputs": [],
   "source": []
  },
  {
   "cell_type": "code",
   "execution_count": 171,
   "metadata": {},
   "outputs": [
    {
     "data": {
      "text/plain": [
       "13"
      ]
     },
     "execution_count": 171,
     "metadata": {},
     "output_type": "execute_result"
    }
   ],
   "source": [
    "me.roll(20)"
   ]
  },
  {
   "cell_type": "code",
   "execution_count": 172,
   "metadata": {},
   "outputs": [
    {
     "data": {
      "text/plain": [
       "19"
      ]
     },
     "execution_count": 172,
     "metadata": {},
     "output_type": "execute_result"
    }
   ],
   "source": [
    "me.roll(20)"
   ]
  },
  {
   "cell_type": "code",
   "execution_count": 173,
   "metadata": {},
   "outputs": [],
   "source": [
    "# catch 1 trout"
   ]
  },
  {
   "cell_type": "code",
   "execution_count": 174,
   "metadata": {},
   "outputs": [
    {
     "data": {
      "text/plain": [
       "4"
      ]
     },
     "execution_count": 174,
     "metadata": {},
     "output_type": "execute_result"
    }
   ],
   "source": [
    "me.roll(20)"
   ]
  },
  {
   "cell_type": "code",
   "execution_count": 175,
   "metadata": {},
   "outputs": [],
   "source": [
    "# catch raw herring"
   ]
  },
  {
   "cell_type": "markdown",
   "metadata": {},
   "source": [
    "# I feel sick"
   ]
  },
  {
   "cell_type": "code",
   "execution_count": 176,
   "metadata": {},
   "outputs": [
    {
     "data": {
      "text/plain": [
       "10.8"
      ]
     },
     "execution_count": 176,
     "metadata": {},
     "output_type": "execute_result"
    }
   ],
   "source": [
    "me.roll(20) + ( me.construction / 10)"
   ]
  },
  {
   "cell_type": "markdown",
   "metadata": {},
   "source": [
    "I'm leaking! help!"
   ]
  },
  {
   "cell_type": "code",
   "execution_count": 177,
   "metadata": {},
   "outputs": [
    {
     "data": {
      "text/plain": [
       "22.0"
      ]
     },
     "execution_count": 177,
     "metadata": {},
     "output_type": "execute_result"
    }
   ],
   "source": [
    "me.roll(20) + ( me.firemaking/ 10)"
   ]
  },
  {
   "cell_type": "code",
   "execution_count": 178,
   "metadata": {},
   "outputs": [],
   "source": [
    "# cook my food"
   ]
  },
  {
   "cell_type": "markdown",
   "metadata": {},
   "source": [
    "# Each food is cooked so well that it each heals +2 hp !!!!!!!!!!"
   ]
  },
  {
   "cell_type": "markdown",
   "metadata": {},
   "source": [
    "- I was shitting all night"
   ]
  },
  {
   "cell_type": "code",
   "execution_count": 181,
   "metadata": {},
   "outputs": [],
   "source": [
    "# I have a second point of exhuastion from not sleeping well twice!"
   ]
  },
  {
   "cell_type": "code",
   "execution_count": 187,
   "metadata": {},
   "outputs": [],
   "source": [
    "me.inventory.append('trout')\n",
    "me.inventory.append('herring')"
   ]
  },
  {
   "cell_type": "code",
   "execution_count": null,
   "metadata": {},
   "outputs": [],
   "source": []
  }
 ],
 "metadata": {
  "kernelspec": {
   "display_name": "Python 3",
   "language": "python",
   "name": "python3"
  },
  "language_info": {
   "codemirror_mode": {
    "name": "ipython",
    "version": 3
   },
   "file_extension": ".py",
   "mimetype": "text/x-python",
   "name": "python",
   "nbconvert_exporter": "python",
   "pygments_lexer": "ipython3",
   "version": "3.6.6"
  }
 },
 "nbformat": 4,
 "nbformat_minor": 2
}
